{
 "cells": [
  {
   "cell_type": "code",
   "execution_count": 1,
   "metadata": {},
   "outputs": [],
   "source": [
    "import pickle\n",
    "import pandas as pd\n",
    "import time\n",
    "from py_translator import Translator\n",
    "translator = Translator()"
   ]
  },
  {
   "cell_type": "code",
   "execution_count": 2,
   "metadata": {},
   "outputs": [],
   "source": [
    "ETSY_ROUND = '_2019'\n",
    "OUTPUT_FOLDER = ETSY_ROUND + '/output/'"
   ]
  },
  {
   "cell_type": "code",
   "execution_count": 3,
   "metadata": {},
   "outputs": [],
   "source": [
    "dic_uniques = pickle.load( open( OUTPUT_FOLDER + \"dic_to_translate.pickle\", \"rb\" ) )"
   ]
  },
  {
   "cell_type": "code",
   "execution_count": 4,
   "metadata": {},
   "outputs": [],
   "source": [
    "df = pd.DataFrame.from_dict(dic_uniques, orient='index')"
   ]
  },
  {
   "cell_type": "code",
   "execution_count": 5,
   "metadata": {},
   "outputs": [],
   "source": [
    "df.columns = ['materials']"
   ]
  },
  {
   "cell_type": "code",
   "execution_count": 6,
   "metadata": {},
   "outputs": [
    {
     "name": "stdout",
     "output_type": "stream",
     "text": [
      "<class 'pandas.core.frame.DataFrame'>\n",
      "Index: 24851 entries, laine to coton_et_aloe_vera\n",
      "Data columns (total 1 columns):\n",
      "materials    24851 non-null object\n",
      "dtypes: object(1)\n",
      "memory usage: 388.3+ KB\n"
     ]
    }
   ],
   "source": [
    "df.info()"
   ]
  },
  {
   "cell_type": "code",
   "execution_count": 7,
   "metadata": {},
   "outputs": [
    {
     "data": {
      "text/html": [
       "<div>\n",
       "<style scoped>\n",
       "    .dataframe tbody tr th:only-of-type {\n",
       "        vertical-align: middle;\n",
       "    }\n",
       "\n",
       "    .dataframe tbody tr th {\n",
       "        vertical-align: top;\n",
       "    }\n",
       "\n",
       "    .dataframe thead th {\n",
       "        text-align: right;\n",
       "    }\n",
       "</style>\n",
       "<table border=\"1\" class=\"dataframe\">\n",
       "  <thead>\n",
       "    <tr style=\"text-align: right;\">\n",
       "      <th></th>\n",
       "      <th>materials</th>\n",
       "    </tr>\n",
       "  </thead>\n",
       "  <tbody>\n",
       "    <tr>\n",
       "      <td>laine</td>\n",
       "      <td>laine</td>\n",
       "    </tr>\n",
       "    <tr>\n",
       "      <td>soie</td>\n",
       "      <td>soie</td>\n",
       "    </tr>\n",
       "    <tr>\n",
       "      <td>pure_laine</td>\n",
       "      <td>pure laine</td>\n",
       "    </tr>\n",
       "    <tr>\n",
       "      <td>alpaga</td>\n",
       "      <td>alpaga</td>\n",
       "    </tr>\n",
       "    <tr>\n",
       "      <td>tricot</td>\n",
       "      <td>tricot</td>\n",
       "    </tr>\n",
       "  </tbody>\n",
       "</table>\n",
       "</div>"
      ],
      "text/plain": [
       "             materials\n",
       "laine            laine\n",
       "soie              soie\n",
       "pure_laine  pure laine\n",
       "alpaga          alpaga\n",
       "tricot          tricot"
      ]
     },
     "execution_count": 7,
     "metadata": {},
     "output_type": "execute_result"
    }
   ],
   "source": [
    "df.head()"
   ]
  },
  {
   "cell_type": "code",
   "execution_count": 8,
   "metadata": {},
   "outputs": [],
   "source": [
    "dic_list = df['materials'].values.tolist()"
   ]
  },
  {
   "cell_type": "code",
   "execution_count": 9,
   "metadata": {},
   "outputs": [
    {
     "data": {
      "text/plain": [
       "['laine',\n",
       " 'soie',\n",
       " 'pure laine',\n",
       " 'alpaga',\n",
       " 'tricot',\n",
       " 'fait main',\n",
       " 'mérinos',\n",
       " 'perles',\n",
       " 'agate blanche',\n",
       " 'agate marbrée']"
      ]
     },
     "execution_count": 9,
     "metadata": {},
     "output_type": "execute_result"
    }
   ],
   "source": [
    "dic_list[:10]"
   ]
  },
  {
   "cell_type": "code",
   "execution_count": 10,
   "metadata": {},
   "outputs": [
    {
     "data": {
      "text/plain": [
       "24851"
      ]
     },
     "execution_count": 10,
     "metadata": {},
     "output_type": "execute_result"
    }
   ],
   "source": [
    "len(dic_list)"
   ]
  },
  {
   "cell_type": "code",
   "execution_count": 11,
   "metadata": {},
   "outputs": [],
   "source": [
    "def chunks(l, n):\n",
    "    \"\"\"Yield successive n-sized chunks from l.\"\"\"\n",
    "    for i in range(0, len(l), n):\n",
    "        yield l[i:i + n]"
   ]
  },
  {
   "cell_type": "code",
   "execution_count": 12,
   "metadata": {},
   "outputs": [],
   "source": [
    "chunk_value = 120\n",
    "google_max = 3900"
   ]
  },
  {
   "cell_type": "code",
   "execution_count": 13,
   "metadata": {},
   "outputs": [],
   "source": [
    "gen = chunks(dic_list, chunk_value)"
   ]
  },
  {
   "cell_type": "code",
   "execution_count": 14,
   "metadata": {},
   "outputs": [],
   "source": [
    "source_texts = []"
   ]
  },
  {
   "cell_type": "code",
   "execution_count": 15,
   "metadata": {},
   "outputs": [
    {
     "name": "stdout",
     "output_type": "stream",
     "text": [
      "4745\n",
      "4122\n",
      "4433\n"
     ]
    }
   ],
   "source": [
    "for idx in range(1, int((len(dic_list)/chunk_value) + 1)):\n",
    "    txt = '\\n'.join(next(gen))\n",
    "    if (len(txt)) >= google_max:\n",
    "        print(len(txt))\n",
    "    source_texts.append(txt)"
   ]
  },
  {
   "cell_type": "code",
   "execution_count": 16,
   "metadata": {},
   "outputs": [
    {
     "data": {
      "text/plain": [
       "207"
      ]
     },
     "execution_count": 16,
     "metadata": {},
     "output_type": "execute_result"
    }
   ],
   "source": [
    "len(source_texts)"
   ]
  },
  {
   "cell_type": "code",
   "execution_count": 17,
   "metadata": {},
   "outputs": [],
   "source": [
    "def translateList(liste):\n",
    "    translated_texts = []\n",
    "    for index, txt in enumerate(liste):\n",
    "        txt_translated = translator.translate(txt)\n",
    "        if txt_translated == 'TRANSLATION_ERROR':\n",
    "            print('TRANSLATION_ERROR {}'.format(index))\n",
    "        else:\n",
    "            print('OK {}'.format(index))\n",
    "        translated_texts.append(txt_translated)\n",
    "    return translated_texts"
   ]
  },
  {
   "cell_type": "code",
   "execution_count": 18,
   "metadata": {},
   "outputs": [
    {
     "name": "stdout",
     "output_type": "stream",
     "text": [
      "OK 0\n",
      "OK 1\n",
      "OK 2\n",
      "OK 3\n",
      "OK 4\n",
      "OK 5\n",
      "OK 6\n",
      "OK 7\n",
      "OK 8\n",
      "OK 9\n",
      "OK 10\n",
      "OK 11\n",
      "OK 12\n",
      "OK 13\n",
      "OK 14\n",
      "OK 15\n",
      "OK 16\n",
      "OK 17\n",
      "OK 18\n",
      "OK 19\n",
      "OK 20\n",
      "OK 21\n",
      "OK 22\n",
      "OK 23\n",
      "OK 24\n",
      "OK 25\n",
      "OK 26\n",
      "OK 27\n",
      "OK 28\n",
      "OK 29\n",
      "OK 30\n",
      "OK 31\n",
      "OK 32\n",
      "OK 33\n",
      "OK 34\n",
      "OK 35\n",
      "OK 36\n",
      "OK 37\n",
      "OK 38\n",
      "OK 39\n",
      "OK 40\n",
      "OK 41\n",
      "OK 42\n",
      "OK 43\n",
      "OK 44\n",
      "OK 45\n",
      "OK 46\n",
      "OK 47\n",
      "OK 48\n",
      "OK 49\n"
     ]
    }
   ],
   "source": [
    "translated_texts = translateList(source_texts[0:50])"
   ]
  },
  {
   "cell_type": "code",
   "execution_count": 19,
   "metadata": {},
   "outputs": [],
   "source": [
    "pickle.dump( translated_texts, open( OUTPUT_FOLDER + \"translated_texts_0_50.pickle\", \"wb\" ) )"
   ]
  },
  {
   "cell_type": "code",
   "execution_count": 20,
   "metadata": {},
   "outputs": [
    {
     "name": "stdout",
     "output_type": "stream",
     "text": [
      "OK 0\n",
      "OK 1\n",
      "OK 2\n",
      "OK 3\n",
      "OK 4\n",
      "OK 5\n",
      "OK 6\n",
      "OK 7\n",
      "OK 8\n",
      "OK 9\n",
      "OK 10\n",
      "OK 11\n",
      "OK 12\n",
      "OK 13\n",
      "OK 14\n",
      "OK 15\n",
      "OK 16\n",
      "OK 17\n",
      "OK 18\n",
      "OK 19\n",
      "OK 20\n",
      "OK 21\n",
      "OK 22\n",
      "OK 23\n",
      "OK 24\n",
      "OK 25\n",
      "OK 26\n",
      "OK 27\n",
      "OK 28\n",
      "OK 29\n",
      "OK 30\n",
      "OK 31\n",
      "OK 32\n",
      "OK 33\n",
      "OK 34\n",
      "OK 35\n",
      "OK 36\n",
      "OK 37\n",
      "OK 38\n",
      "OK 39\n",
      "OK 40\n",
      "OK 41\n",
      "OK 42\n",
      "OK 43\n",
      "OK 44\n",
      "OK 45\n",
      "OK 46\n",
      "OK 47\n",
      "OK 48\n",
      "OK 49\n"
     ]
    }
   ],
   "source": [
    "translated_texts = translateList(source_texts[50:100])"
   ]
  },
  {
   "cell_type": "code",
   "execution_count": 21,
   "metadata": {},
   "outputs": [],
   "source": [
    "pickle.dump( translated_texts, open( OUTPUT_FOLDER + \"translated_texts_50_100.pickle\", \"wb\" ) )"
   ]
  },
  {
   "cell_type": "code",
   "execution_count": 22,
   "metadata": {},
   "outputs": [
    {
     "name": "stdout",
     "output_type": "stream",
     "text": [
      "OK 0\n",
      "OK 1\n",
      "OK 2\n",
      "OK 3\n",
      "OK 4\n",
      "OK 5\n",
      "OK 6\n",
      "OK 7\n",
      "OK 8\n",
      "OK 9\n",
      "OK 10\n",
      "OK 11\n",
      "OK 12\n",
      "OK 13\n",
      "OK 14\n",
      "OK 15\n",
      "OK 16\n",
      "OK 17\n",
      "OK 18\n",
      "OK 19\n",
      "OK 20\n",
      "OK 21\n",
      "OK 22\n",
      "OK 23\n",
      "OK 24\n",
      "OK 25\n",
      "OK 26\n",
      "OK 27\n",
      "OK 28\n",
      "OK 29\n",
      "OK 30\n",
      "OK 31\n",
      "OK 32\n",
      "OK 33\n",
      "OK 34\n",
      "OK 35\n",
      "OK 36\n",
      "OK 37\n",
      "OK 38\n",
      "OK 39\n",
      "OK 40\n",
      "OK 41\n",
      "OK 42\n",
      "OK 43\n",
      "OK 44\n",
      "OK 45\n",
      "OK 46\n",
      "OK 47\n",
      "OK 48\n",
      "OK 49\n"
     ]
    }
   ],
   "source": [
    "translated_texts = translateList(source_texts[100:150])"
   ]
  },
  {
   "cell_type": "code",
   "execution_count": 23,
   "metadata": {},
   "outputs": [],
   "source": [
    "pickle.dump( translated_texts, open( OUTPUT_FOLDER + \"translated_texts_100_150.pickle\", \"wb\" ) )"
   ]
  },
  {
   "cell_type": "code",
   "execution_count": 24,
   "metadata": {},
   "outputs": [
    {
     "name": "stdout",
     "output_type": "stream",
     "text": [
      "OK 0\n",
      "OK 1\n",
      "OK 2\n",
      "OK 3\n",
      "OK 4\n",
      "OK 5\n",
      "OK 6\n",
      "OK 7\n",
      "OK 8\n",
      "OK 9\n",
      "OK 10\n",
      "OK 11\n",
      "OK 12\n",
      "OK 13\n",
      "OK 14\n",
      "OK 15\n",
      "OK 16\n",
      "OK 17\n",
      "OK 18\n",
      "OK 19\n",
      "OK 20\n",
      "OK 21\n",
      "OK 22\n",
      "OK 23\n",
      "OK 24\n",
      "OK 25\n",
      "OK 26\n",
      "OK 27\n",
      "OK 28\n",
      "OK 29\n",
      "OK 30\n",
      "OK 31\n",
      "OK 32\n",
      "OK 33\n",
      "OK 34\n",
      "OK 35\n",
      "OK 36\n",
      "OK 37\n",
      "OK 38\n",
      "OK 39\n",
      "OK 40\n",
      "OK 41\n",
      "OK 42\n",
      "OK 43\n",
      "OK 44\n",
      "OK 45\n",
      "OK 46\n",
      "OK 47\n",
      "OK 48\n",
      "OK 49\n",
      "OK 50\n",
      "OK 51\n",
      "OK 52\n",
      "OK 53\n",
      "OK 54\n",
      "OK 55\n",
      "OK 56\n"
     ]
    }
   ],
   "source": [
    "translated_texts = translateList(source_texts[150:])"
   ]
  },
  {
   "cell_type": "code",
   "execution_count": 25,
   "metadata": {},
   "outputs": [],
   "source": [
    "pickle.dump( translated_texts, open( OUTPUT_FOLDER + \"translated_texts_150_207.pickle\", \"wb\" ) )"
   ]
  },
  {
   "cell_type": "code",
   "execution_count": null,
   "metadata": {},
   "outputs": [],
   "source": []
  }
 ],
 "metadata": {
  "kernelspec": {
   "display_name": "Python 3",
   "language": "python",
   "name": "python3"
  },
  "language_info": {
   "codemirror_mode": {
    "name": "ipython",
    "version": 3
   },
   "file_extension": ".py",
   "mimetype": "text/x-python",
   "name": "python",
   "nbconvert_exporter": "python",
   "pygments_lexer": "ipython3",
   "version": "3.6.9"
  }
 },
 "nbformat": 4,
 "nbformat_minor": 2
}
