{
 "cells": [
  {
   "cell_type": "code",
   "execution_count": 1,
   "metadata": {},
   "outputs": [],
   "source": [
    "import pickle\n",
    "import pandas as pd\n",
    "import ast\n",
    "from collections import OrderedDict\n",
    "import unicodedata\n",
    "from ftfy import fix_text\n",
    "import re\n",
    "import string"
   ]
  },
  {
   "cell_type": "code",
   "execution_count": 2,
   "metadata": {},
   "outputs": [],
   "source": [
    "ETSY_ROUND = '_2019'\n",
    "SOURCE_FILE = ETSY_ROUND + '/source/producs_2017_2019.pickle'\n",
    "OUTPUT_FOLDER = ETSY_ROUND + '/output/'"
   ]
  },
  {
   "cell_type": "code",
   "execution_count": 3,
   "metadata": {},
   "outputs": [],
   "source": [
    "df_source = pd.read_pickle(SOURCE_FILE)"
   ]
  },
  {
   "cell_type": "code",
   "execution_count": 4,
   "metadata": {},
   "outputs": [],
   "source": [
    "#df_source.head()"
   ]
  },
  {
   "cell_type": "code",
   "execution_count": 5,
   "metadata": {},
   "outputs": [],
   "source": [
    "df = df_source[['listing_id', 'materials']]"
   ]
  },
  {
   "cell_type": "code",
   "execution_count": 6,
   "metadata": {},
   "outputs": [
    {
     "data": {
      "text/html": [
       "<div>\n",
       "<style scoped>\n",
       "    .dataframe tbody tr th:only-of-type {\n",
       "        vertical-align: middle;\n",
       "    }\n",
       "\n",
       "    .dataframe tbody tr th {\n",
       "        vertical-align: top;\n",
       "    }\n",
       "\n",
       "    .dataframe thead th {\n",
       "        text-align: right;\n",
       "    }\n",
       "</style>\n",
       "<table border=\"1\" class=\"dataframe\">\n",
       "  <thead>\n",
       "    <tr style=\"text-align: right;\">\n",
       "      <th></th>\n",
       "      <th>listing_id</th>\n",
       "      <th>materials</th>\n",
       "    </tr>\n",
       "    <tr>\n",
       "      <th>user_id</th>\n",
       "      <th></th>\n",
       "      <th></th>\n",
       "    </tr>\n",
       "  </thead>\n",
       "  <tbody>\n",
       "    <tr>\n",
       "      <td>15799995</td>\n",
       "      <td>608306837</td>\n",
       "      <td>['leather', 'genuine leather', 'colourful leat...</td>\n",
       "    </tr>\n",
       "    <tr>\n",
       "      <td>15799995</td>\n",
       "      <td>235543853</td>\n",
       "      <td>['genuine leather', 'metal', 'leather']</td>\n",
       "    </tr>\n",
       "  </tbody>\n",
       "</table>\n",
       "</div>"
      ],
      "text/plain": [
       "          listing_id                                          materials\n",
       "user_id                                                                \n",
       "15799995   608306837  ['leather', 'genuine leather', 'colourful leat...\n",
       "15799995   235543853            ['genuine leather', 'metal', 'leather']"
      ]
     },
     "execution_count": 6,
     "metadata": {},
     "output_type": "execute_result"
    }
   ],
   "source": [
    "df.tail(2)"
   ]
  },
  {
   "cell_type": "code",
   "execution_count": 7,
   "metadata": {},
   "outputs": [],
   "source": [
    "def removeAnyRepeatedSpace(texte):\n",
    "    return re.sub(' +',' ', texte.strip())"
   ]
  },
  {
   "cell_type": "code",
   "execution_count": 8,
   "metadata": {},
   "outputs": [],
   "source": [
    "# removeAnyRepeatedSpace(' stri   ng ')\n",
    "# 'stri ng'"
   ]
  },
  {
   "cell_type": "code",
   "execution_count": 9,
   "metadata": {},
   "outputs": [],
   "source": [
    "def removePunctuation(texte):\n",
    "    exclude_punt = set(string.punctuation)\n",
    "    texte = ''.join(ch for ch in texte if ch not in exclude_punt)\n",
    "    return str(texte)"
   ]
  },
  {
   "cell_type": "code",
   "execution_count": 10,
   "metadata": {},
   "outputs": [],
   "source": [
    "def removeAccents(texte):\n",
    "    texte = unicodedata.normalize('NFD', texte)\n",
    "    texte = texte.encode('ascii', 'ignore')\n",
    "    texte = texte.decode(\"utf-8\")\n",
    "    return str(texte)"
   ]
  },
  {
   "cell_type": "code",
   "execution_count": 11,
   "metadata": {},
   "outputs": [],
   "source": [
    "data_dict = OrderedDict()\n",
    "for row in df_source.itertuples():\n",
    "    index = 1\n",
    "    try:\n",
    "        materials = ast.literal_eval(row.materials)\n",
    "        for material in materials:\n",
    "            idx = '{}_{}'.format(row.listing_id, index)\n",
    "\n",
    "            material_clean = removePunctuation(removeAnyRepeatedSpace(fix_text(material))).strip().lower()\n",
    "\n",
    "            material_key = removeAccents(material_clean).replace(' ', '_')\n",
    "\n",
    "            data_dict[idx] = [row.listing_id, material_key, material_clean]\n",
    "            index = index + 1\n",
    "    except:\n",
    "        print('Error: {}'.format(row.materials))"
   ]
  },
  {
   "cell_type": "code",
   "execution_count": 12,
   "metadata": {},
   "outputs": [],
   "source": [
    "# data_dict"
   ]
  },
  {
   "cell_type": "code",
   "execution_count": 13,
   "metadata": {},
   "outputs": [],
   "source": [
    "pickle.dump( data_dict, open( OUTPUT_FOLDER + \"data_dict.pickle\", \"wb\" ) )"
   ]
  },
  {
   "cell_type": "code",
   "execution_count": 14,
   "metadata": {},
   "outputs": [],
   "source": [
    "dic_uniques = OrderedDict()"
   ]
  },
  {
   "cell_type": "code",
   "execution_count": 15,
   "metadata": {},
   "outputs": [],
   "source": [
    "for (key, value) in data_dict.items() :\n",
    "    if value[2] not in dic_uniques:\n",
    "        dic_uniques[value[1]] = value[2]"
   ]
  },
  {
   "cell_type": "code",
   "execution_count": 16,
   "metadata": {},
   "outputs": [
    {
     "data": {
      "text/plain": [
       "61097"
      ]
     },
     "execution_count": 16,
     "metadata": {},
     "output_type": "execute_result"
    }
   ],
   "source": [
    "len(dic_uniques)"
   ]
  },
  {
   "cell_type": "code",
   "execution_count": 19,
   "metadata": {},
   "outputs": [],
   "source": [
    "# dic_uniques"
   ]
  },
  {
   "cell_type": "code",
   "execution_count": 18,
   "metadata": {},
   "outputs": [],
   "source": [
    "pickle.dump( dic_uniques, open( OUTPUT_FOLDER + \"dic_uniques.pickle\", \"wb\" ) )"
   ]
  },
  {
   "cell_type": "code",
   "execution_count": null,
   "metadata": {},
   "outputs": [],
   "source": []
  },
  {
   "cell_type": "code",
   "execution_count": null,
   "metadata": {},
   "outputs": [],
   "source": []
  }
 ],
 "metadata": {
  "kernelspec": {
   "display_name": "Python 3",
   "language": "python",
   "name": "python3"
  },
  "language_info": {
   "codemirror_mode": {
    "name": "ipython",
    "version": 3
   },
   "file_extension": ".py",
   "mimetype": "text/x-python",
   "name": "python",
   "nbconvert_exporter": "python",
   "pygments_lexer": "ipython3",
   "version": "3.6.9"
  }
 },
 "nbformat": 4,
 "nbformat_minor": 2
}
